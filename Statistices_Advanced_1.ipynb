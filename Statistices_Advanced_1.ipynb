{
  "nbformat": 4,
  "nbformat_minor": 0,
  "metadata": {
    "colab": {
      "provenance": []
    },
    "kernelspec": {
      "name": "python3",
      "display_name": "Python 3"
    },
    "language_info": {
      "name": "python"
    }
  },
  "cells": [
    {
      "cell_type": "code",
      "execution_count": 1,
      "metadata": {
        "colab": {
          "base_uri": "https://localhost:8080/",
          "height": 105
        },
        "id": "n41QhOWL6byG",
        "outputId": "0ad524e6-04df-4169-e853-812b3903f8f2"
      },
      "outputs": [
        {
          "output_type": "execute_result",
          "data": {
            "text/plain": [
              "'probability theory, a random variable is a variable whose possible values are the outcomes of a random phenomenon.\\n\\nIt assigns a numerical value to each outcome in a sample space.\\n\\nDespite the name, it’s not “random” in the sense of constantly changing; instead, it’s a function that maps outcomes of an experiment to numbers.\\n\\nTypes of Random Variables\\nDiscrete Random Variable\\n\\nTakes countable values (finite or countably infinite).\\n\\nExample: Number of heads when flipping 3 coins → {0, 1, 2, 3}\\n\\nContinuous Random Variable\\n\\nTakes uncountable values within an interval (infinite possibilities).\\n\\nExample: Height of a student → any real number within a range, like 150.5 cm\\n\\nExample\\n Experiment: Roll a fair die.\\n\\nSample space: {1, 2, 3, 4, 5, 6}\\n\\nLet \\n𝑋\\nX = \"Number showing on the die\".\\n\\n𝑋\\nX is a random variable, because it assigns numerical values to the outcomes.'"
            ],
            "application/vnd.google.colaboratory.intrinsic+json": {
              "type": "string"
            }
          },
          "metadata": {},
          "execution_count": 1
        }
      ],
      "source": [
        "#Question 1: What is a random variable in probability theory?\n",
        "'''probability theory, a random variable is a variable whose possible values are the outcomes of a random phenomenon.\n",
        "\n",
        "It assigns a numerical value to each outcome in a sample space.\n",
        "\n",
        "Despite the name, it’s not “random” in the sense of constantly changing; instead, it’s a function that maps outcomes of an experiment to numbers.\n",
        "\n",
        "Types of Random Variables\n",
        "Discrete Random Variable\n",
        "\n",
        "Takes countable values (finite or countably infinite).\n",
        "\n",
        "Example: Number of heads when flipping 3 coins → {0, 1, 2, 3}\n",
        "\n",
        "Continuous Random Variable\n",
        "\n",
        "Takes uncountable values within an interval (infinite possibilities).\n",
        "\n",
        "Example: Height of a student → any real number within a range, like 150.5 cm\n",
        "\n",
        "Example\n",
        " Experiment: Roll a fair die.\n",
        "\n",
        "Sample space: {1, 2, 3, 4, 5, 6}\n",
        "\n",
        "Let\n",
        "𝑋\n",
        "X = \"Number showing on the die\".\n",
        "\n",
        "𝑋\n",
        "X is a random variable, because it assigns numerical values to the outcomes.'''"
      ]
    },
    {
      "cell_type": "code",
      "source": [
        "#Question 2: What are the types of random variables?\n",
        "'''two primary types based on the nature of the values they can take:\n",
        "\n",
        "1. Discrete Random Variable\n",
        "Definition: A random variable that can take only countable values (finite or countably infinite).\n",
        "\n",
        "Nature: Usually comes from counting something.\n",
        "\n",
        "Examples:\n",
        "\n",
        "Number of heads in 3 coin tosses → {0, 1, 2, 3}\n",
        "\n",
        "Number of customers in a shop at a given time.\n",
        "\n",
        "Probability Representation:\n",
        "Described by a Probability Mass Function (PMF)\n",
        "𝑃\n",
        "(\n",
        "𝑋\n",
        "=\n",
        "𝑥\n",
        ")\n",
        "P(X=x).\n",
        "\n",
        "2. Continuous Random Variable\n",
        "Definition: A random variable that can take uncountably infinite values within a given range or interval.\n",
        "\n",
        "Nature: Usually comes from measuring something.\n",
        "\n",
        "Examples:\n",
        "\n",
        "Height of a student → could be 170.2 cm, 170.25 cm, etc.\n",
        "\n",
        "Time taken to complete a task.\n",
        "\n",
        "Probability Representation:\n",
        "Described by a Probability Density Function (PDF)\n",
        "𝑓\n",
        "(\n",
        "𝑥\n",
        ")\n",
        "f(x).\n",
        "\n",
        "'''"
      ],
      "metadata": {
        "colab": {
          "base_uri": "https://localhost:8080/",
          "height": 105
        },
        "id": "UlkjymAc7FOF",
        "outputId": "0ee62a37-d1b6-4875-ac2f-6d12a4f9f585"
      },
      "execution_count": 2,
      "outputs": [
        {
          "output_type": "execute_result",
          "data": {
            "text/plain": [
              "'two primary types based on the nature of the values they can take:\\n\\n1. Discrete Random Variable\\nDefinition: A random variable that can take only countable values (finite or countably infinite).\\n\\nNature: Usually comes from counting something.\\n\\nExamples:\\n\\nNumber of heads in 3 coin tosses → {0, 1, 2, 3}\\n\\nNumber of customers in a shop at a given time.\\n\\nProbability Representation:\\nDescribed by a Probability Mass Function (PMF) \\n𝑃\\n(\\n𝑋\\n=\\n𝑥\\n)\\nP(X=x).\\n\\n2. Continuous Random Variable\\nDefinition: A random variable that can take uncountably infinite values within a given range or interval.\\n\\nNature: Usually comes from measuring something.\\n\\nExamples:\\n\\nHeight of a student → could be 170.2 cm, 170.25 cm, etc.\\n\\nTime taken to complete a task.\\n\\nProbability Representation:\\nDescribed by a Probability Density Function (PDF) \\n𝑓\\n(\\n𝑥\\n)\\nf(x).\\n\\n'"
            ],
            "application/vnd.google.colaboratory.intrinsic+json": {
              "type": "string"
            }
          },
          "metadata": {},
          "execution_count": 2
        }
      ]
    },
    {
      "cell_type": "code",
      "source": [
        "#Question 3: Explain the difference between discrete and continuous distributions\n",
        "'''The key difference between discrete and continuous distributions lies in the type of values their data can take:\n",
        "\n",
        "Discrete distributions are defined for variables that take on countable, often integer, values with gaps between them. These values are distinct and separate. Probability can be assigned to each specific value. For example, discrete distributions apply to counts like the number of clicks on a webpage or the roll of a die. Here, you can say, for instance, \"the probability of 12 clicks in an hour is 0.15.\" Such values cannot be subdivided meaningfully—they are whole numbers or fixed categories.\n",
        "\n",
        "Continuous distributions describe variables that can take on any value within a specified range, including fractions and decimals. The values form an uncountably infinite set with no gaps between possible values. Since the probability of the variable taking exactly one specific value is zero, continuous distributions are described in terms of probability density over intervals, not at single points. An example is measuring weight, time, or length, where the variable can assume any value within a continuum and probability is calculated for ranges rather than discrete points.'''"
      ],
      "metadata": {
        "colab": {
          "base_uri": "https://localhost:8080/",
          "height": 123
        },
        "id": "yc8X9Nep7kDs",
        "outputId": "4d100eb3-4ce7-4d63-93f0-2882581707f4"
      },
      "execution_count": 4,
      "outputs": [
        {
          "output_type": "execute_result",
          "data": {
            "text/plain": [
              "'The key difference between discrete and continuous distributions lies in the type of values their data can take:\\n\\nDiscrete distributions are defined for variables that take on countable, often integer, values with gaps between them. These values are distinct and separate. Probability can be assigned to each specific value. For example, discrete distributions apply to counts like the number of clicks on a webpage or the roll of a die. Here, you can say, for instance, \"the probability of 12 clicks in an hour is 0.15.\" Such values cannot be subdivided meaningfully—they are whole numbers or fixed categories.\\n\\nContinuous distributions describe variables that can take on any value within a specified range, including fractions and decimals. The values form an uncountably infinite set with no gaps between possible values. Since the probability of the variable taking exactly one specific value is zero, continuous distributions are described in terms of probability density over intervals, not at single points. An example is measuring weight, time, or length, where the variable can assume any value within a continuum and probability is calculated for ranges rather than discrete points.'"
            ],
            "application/vnd.google.colaboratory.intrinsic+json": {
              "type": "string"
            }
          },
          "metadata": {},
          "execution_count": 4
        }
      ]
    },
    {
      "cell_type": "code",
      "source": [
        "#Question 4: What is a binomial distribution, and how is it used in probability?\n",
        "'''A Binomial Distribution is a classic example of a discrete probability distribution that models the number of successes in a fixed number of trials, each with two possible outcomes (success or failure).\n",
        "\n",
        "Key Points of Binomial Distribution:\n",
        "Number of trials (n): Fixed and known in advance.\n",
        "\n",
        "Two outcomes: Each trial results in either success or failure.\n",
        "\n",
        "Independence: Each trial is independent; results of one do not affect others.\n",
        "\n",
        "Constant probability (p): Probability of success stays the same across trials.\n",
        "\n",
        "Probability of exactly\n",
        "𝑘\n",
        "k successes:\n",
        "𝑃\n",
        "(\n",
        "𝑋\n",
        "=\n",
        "𝑘\n",
        ")\n",
        "=\n",
        "(\n",
        "𝑛\n",
        "𝑘\n",
        ")\n",
        "𝑝\n",
        "𝑘\n",
        "(\n",
        "1\n",
        "−\n",
        "𝑝\n",
        ")\n",
        "𝑛\n",
        "−\n",
        "𝑘\n",
        "P(X=k)=(\n",
        "k\n",
        "n\n",
        " )p\n",
        "k\n",
        " (1−p)\n",
        "n−k\n",
        "\n",
        "(\n",
        "𝑛\n",
        "𝑘\n",
        ")\n",
        "=\n",
        "𝑛\n",
        "!\n",
        "𝑘\n",
        "!\n",
        "(\n",
        "𝑛\n",
        "−\n",
        "𝑘\n",
        ")\n",
        "!\n",
        "(\n",
        "k\n",
        "n\n",
        " )=\n",
        "k!(n−k)!\n",
        "n!\n",
        "  counts the ways to choose which\n",
        "𝑘\n",
        "k trials out of\n",
        "𝑛\n",
        "n are successes.\n",
        "\n",
        "𝑝\n",
        "𝑘\n",
        "p\n",
        "k\n",
        "  is the probability of success occurring\n",
        "𝑘\n",
        "k times.\n",
        "\n",
        "(\n",
        "1\n",
        "−\n",
        "𝑝\n",
        ")\n",
        "𝑛\n",
        "−\n",
        "𝑘\n",
        "(1−p)\n",
        "n−k\n",
        "  is the probability of failure in the remaining trials.'''"
      ],
      "metadata": {
        "colab": {
          "base_uri": "https://localhost:8080/",
          "height": 123
        },
        "id": "ucBamiJI8wD7",
        "outputId": "0358b968-c94c-4236-fbeb-db78f72e9ee8"
      },
      "execution_count": 5,
      "outputs": [
        {
          "output_type": "execute_result",
          "data": {
            "text/plain": [
              "'A Binomial Distribution is a classic example of a discrete probability distribution that models the number of successes in a fixed number of trials, each with two possible outcomes (success or failure).\\n\\nKey Points of Binomial Distribution:\\nNumber of trials (n): Fixed and known in advance.\\n\\nTwo outcomes: Each trial results in either success or failure.\\n\\nIndependence: Each trial is independent; results of one do not affect others.\\n\\nConstant probability (p): Probability of success stays the same across trials.\\n\\nProbability of exactly \\n𝑘\\nk successes:\\n𝑃\\n(\\n𝑋\\n=\\n𝑘\\n)\\n=\\n(\\n𝑛\\n𝑘\\n)\\n𝑝\\n𝑘\\n(\\n1\\n−\\n𝑝\\n)\\n𝑛\\n−\\n𝑘\\nP(X=k)=( \\nk\\nn\\n )p \\nk\\n (1−p) \\nn−k\\n \\n(\\n𝑛\\n𝑘\\n)\\n=\\n𝑛\\n!\\n𝑘\\n!\\n(\\n𝑛\\n−\\n𝑘\\n)\\n!\\n( \\nk\\nn\\n )= \\nk!(n−k)!\\nn!\\n  counts the ways to choose which \\n𝑘\\nk trials out of \\n𝑛\\nn are successes.\\n\\n𝑝\\n𝑘\\np \\nk\\n  is the probability of success occurring \\n𝑘\\nk times.\\n\\n(\\n1\\n−\\n𝑝\\n)\\n𝑛\\n−\\n𝑘\\n(1−p) \\nn−k\\n  is the probability of failure in the remaining trials.'"
            ],
            "application/vnd.google.colaboratory.intrinsic+json": {
              "type": "string"
            }
          },
          "metadata": {},
          "execution_count": 5
        }
      ]
    },
    {
      "cell_type": "code",
      "source": [
        "#Question 5: What is the standard normal distribution, and why is it important?\n",
        "'''The standard normal distribution is a special case of the normal distribution characterized by:\n",
        "\n",
        "A mean (average) of 0\n",
        "\n",
        "A standard deviation of 1\n",
        "\n",
        "This distribution is sometimes called the z-distribution and its curve is bell-shaped, symmetric around the mean of zero.\n",
        "\n",
        "Key Characteristics\n",
        "It is continuous and bell-shaped.\n",
        "\n",
        "The mean, median, and mode are all zero.\n",
        "\n",
        "The total area under the curve equals 1.\n",
        "\n",
        "It describes a probability distribution where values represent standard deviations away from the mean.\n",
        "\n",
        "The probability density function (PDF) is given by:\n",
        "\n",
        "f\n",
        "(\n",
        "z\n",
        ")\n",
        "=\n",
        "1\n",
        "2\n",
        "π\n",
        "e\n",
        "−\n",
        "z\n",
        "2\n",
        "2\n",
        "f(z)=\n",
        "2π\n",
        "\n",
        "1\n",
        " e\n",
        "−\n",
        "2\n",
        "z\n",
        "2\n",
        "\n",
        "\n",
        "\n",
        "where\n",
        "z\n",
        "z is the standardized variable.\n",
        "\n",
        "Why it is important:\n",
        "Standardization: Any normal distribution with any mean\n",
        "μ\n",
        "μ and standard deviation\n",
        "σ\n",
        "σ can be transformed (standardized) into the standard normal distribution using the formula:\n",
        "\n",
        "Z\n",
        "=\n",
        "X\n",
        "−\n",
        "μ\n",
        "σ\n",
        "Z=\n",
        "σ\n",
        "X−μ\n",
        "\n",
        "This allows comparison between different normal distributions and simplifies probability calculations.'''"
      ],
      "metadata": {
        "colab": {
          "base_uri": "https://localhost:8080/",
          "height": 123
        },
        "id": "tWFHewP-9iJc",
        "outputId": "22974532-3221-4c79-b1b3-db393149fb60"
      },
      "execution_count": 7,
      "outputs": [
        {
          "output_type": "execute_result",
          "data": {
            "text/plain": [
              "'The standard normal distribution is a special case of the normal distribution characterized by:\\n\\nA mean (average) of 0\\n\\nA standard deviation of 1\\n\\nThis distribution is sometimes called the z-distribution and its curve is bell-shaped, symmetric around the mean of zero.\\n\\nKey Characteristics\\nIt is continuous and bell-shaped.\\n\\nThe mean, median, and mode are all zero.\\n\\nThe total area under the curve equals 1.\\n\\nIt describes a probability distribution where values represent standard deviations away from the mean.\\n\\nThe probability density function (PDF) is given by:\\n\\nf\\n(\\nz\\n)\\n=\\n1\\n2\\nπ\\ne\\n−\\nz\\n2\\n2\\nf(z)= \\n2π\\n \\n1\\n e \\n− \\n2\\nz \\n2\\n \\n \\n \\nwhere \\nz\\nz is the standardized variable.\\n\\nWhy it is important:\\nStandardization: Any normal distribution with any mean \\nμ\\nμ and standard deviation \\nσ\\nσ can be transformed (standardized) into the standard normal distribution using the formula:\\n\\nZ\\n=\\nX\\n−\\nμ\\nσ\\nZ= \\nσ\\nX−μ\\n \\nThis allows comparison between different normal distributions and simplifies probability calculations.'"
            ],
            "application/vnd.google.colaboratory.intrinsic+json": {
              "type": "string"
            }
          },
          "metadata": {},
          "execution_count": 7
        }
      ]
    },
    {
      "cell_type": "code",
      "source": [
        "#Question 6: What is the Central Limit Theorem (CLT), and why is it critical in statistics?\n",
        "'''The Central Limit Theorem (CLT) states that when you take sufficiently large random samples from any population with a finite variance, the distribution of the sample means will approximate a normal distribution, regardless of the population’s original distribution.\n",
        "\n",
        "Why it is critical in statistics:\n",
        "It allows us to use normal distribution methods for inference even if the population is not normally distributed.\n",
        "\n",
        "It justifies making probability-based conclusions from sample data.\n",
        "\n",
        "It underpins many statistical procedures like hypothesis testing and confidence intervals.\n",
        "\n",
        "With large enough samples (usually n ≥ 30), the sample mean is a reliable estimate of the population mean.\n",
        "\n",
        "In brief, CLT bridges sample data and population conclusions by ensuring sample means follow a predictable, normal pattern as sample size grows.'''"
      ],
      "metadata": {
        "colab": {
          "base_uri": "https://localhost:8080/",
          "height": 105
        },
        "id": "Nvdv8wG-94M-",
        "outputId": "9fd70606-c13b-48eb-9246-4790c460a695"
      },
      "execution_count": 8,
      "outputs": [
        {
          "output_type": "execute_result",
          "data": {
            "text/plain": [
              "'The Central Limit Theorem (CLT) states that when you take sufficiently large random samples from any population with a finite variance, the distribution of the sample means will approximate a normal distribution, regardless of the population’s original distribution.\\n\\nWhy it is critical in statistics:\\nIt allows us to use normal distribution methods for inference even if the population is not normally distributed.\\n\\nIt justifies making probability-based conclusions from sample data.\\n\\nIt underpins many statistical procedures like hypothesis testing and confidence intervals.\\n\\nWith large enough samples (usually n ≥ 30), the sample mean is a reliable estimate of the population mean.\\n\\nIn brief, CLT bridges sample data and population conclusions by ensuring sample means follow a predictable, normal pattern as sample size grows.'"
            ],
            "application/vnd.google.colaboratory.intrinsic+json": {
              "type": "string"
            }
          },
          "metadata": {},
          "execution_count": 8
        }
      ]
    },
    {
      "cell_type": "code",
      "source": [
        "#Question 7: What is the significance of confidence intervals in statistical analysis?\n",
        "'''The significance of confidence intervals in statistical analysis can be summarized concisely as follows:\n",
        "\n",
        "Confidence intervals (CIs) provide a range of values within which the true population parameter (like a mean or proportion) is likely to fall, with a specified degree of certainty (commonly 95% confidence).\n",
        "\n",
        "They quantify the uncertainty or precision of an estimate derived from sample data.\n",
        "\n",
        "CIs allow you to assess statistical significance: if the interval does not contain the value representing \"no effect\" (e.g., zero difference), the result is statistically significant.\n",
        "\n",
        "They give more informative insights than a simple point estimate or p-value, showing both the size and reliability of an effect.\n",
        "\n",
        "CIs help in decision-making and interpretation by indicating the range of plausible values and how confidently one can generalize sample results to the population.\n",
        "\n",
        "In brief, confidence intervals measure how sure we can be about our statistical estimates and help distinguish meaningful results from random chance in data analysis.'''"
      ],
      "metadata": {
        "colab": {
          "base_uri": "https://localhost:8080/",
          "height": 123
        },
        "id": "tZD0CeS9-IuD",
        "outputId": "3d5d8e1b-f5d0-43cf-ecd3-12b2abd57d3a"
      },
      "execution_count": 9,
      "outputs": [
        {
          "output_type": "execute_result",
          "data": {
            "text/plain": [
              "'The significance of confidence intervals in statistical analysis can be summarized concisely as follows:\\n\\nConfidence intervals (CIs) provide a range of values within which the true population parameter (like a mean or proportion) is likely to fall, with a specified degree of certainty (commonly 95% confidence).\\n\\nThey quantify the uncertainty or precision of an estimate derived from sample data.\\n\\nCIs allow you to assess statistical significance: if the interval does not contain the value representing \"no effect\" (e.g., zero difference), the result is statistically significant.\\n\\nThey give more informative insights than a simple point estimate or p-value, showing both the size and reliability of an effect.\\n\\nCIs help in decision-making and interpretation by indicating the range of plausible values and how confidently one can generalize sample results to the population.\\n\\nIn brief, confidence intervals measure how sure we can be about our statistical estimates and help distinguish meaningful results from random chance in data analysis.'"
            ],
            "application/vnd.google.colaboratory.intrinsic+json": {
              "type": "string"
            }
          },
          "metadata": {},
          "execution_count": 9
        }
      ]
    },
    {
      "cell_type": "code",
      "source": [
        "#Question 8: What is the concept of expected value in a probability distribution?\n",
        "'''The expected value is the average outcome you'd expect from a random process over many repetitions. It’s calculated by multiplying each possible outcome by its probability and summing these products. It represents the \"center\" or long-term average of the distribution.'''"
      ],
      "metadata": {
        "colab": {
          "base_uri": "https://localhost:8080/",
          "height": 53
        },
        "id": "2HVZxnqa-cvn",
        "outputId": "b1541a5c-931e-412f-a00e-73e8230a52c5"
      },
      "execution_count": 10,
      "outputs": [
        {
          "output_type": "execute_result",
          "data": {
            "text/plain": [
              "'The expected value is the average outcome you\\'d expect from a random process over many repetitions. It’s calculated by multiplying each possible outcome by its probability and summing these products. It represents the \"center\" or long-term average of the distribution.'"
            ],
            "application/vnd.google.colaboratory.intrinsic+json": {
              "type": "string"
            }
          },
          "metadata": {},
          "execution_count": 10
        }
      ]
    },
    {
      "cell_type": "code",
      "source": [
        "#Question 9: Write a Python program to generate 1000 random numbers from a normal\n",
        "#distribution with mean = 50 and standard deviation = 5. Compute its mean and standard\n",
        "#deviation using NumPy, and draw a histogram to visualize the distribution.\n",
        "import numpy as np\n",
        "import matplotlib.pyplot as plt\n",
        "\n",
        "# Parameters\n",
        "mean = 50\n",
        "std_dev = 5\n",
        "\n",
        "# Generate 1000 random numbers from normal distribution\n",
        "random_numbers = np.random.normal(mean, std_dev, 1000)\n",
        "\n",
        "# Compute mean and standard deviation\n",
        "computed_mean = np.mean(random_numbers)\n",
        "computed_std_dev = np.std(random_numbers)\n",
        "\n",
        "# Print computed values\n",
        "print(\"Computed Mean:\", computed_mean)\n",
        "print(\"Computed Standard Deviation:\", computed_std_dev)\n",
        "\n",
        "# Plot histogram\n",
        "plt.hist(random_numbers, bins=30, color='skyblue', edgecolor='black')\n",
        "plt.title('Histogram of 1000 Random Numbers from Normal Distribution')\n",
        "plt.xlabel('Value')\n",
        "plt.ylabel('Frequency')\n",
        "plt.grid(True)\n",
        "plt.show()\n"
      ],
      "metadata": {
        "colab": {
          "base_uri": "https://localhost:8080/",
          "height": 507
        },
        "id": "-OySYNJN-siT",
        "outputId": "adb919c2-6f87-47d8-fcc5-e4d47a8ed609"
      },
      "execution_count": 11,
      "outputs": [
        {
          "output_type": "stream",
          "name": "stdout",
          "text": [
            "Computed Mean: 49.86402244819766\n",
            "Computed Standard Deviation: 4.853166641445669\n"
          ]
        },
        {
          "output_type": "display_data",
          "data": {
            "text/plain": [
              "<Figure size 640x480 with 1 Axes>"
            ],
            "image/png": "[encoded data removed]"
          },
          "metadata": {}
        }
      ]
    },
    {
      "cell_type": "code",
      "source": [
        "'''Question 10: You are working as a data analyst for a retail company. The company has\n",
        "collected daily sales data for 2 years and wants you to identify the overall sales trend.\n",
        "daily_sales = [220, 245, 210, 265, 230, 250, 260, 275, 240, 255,\n",
        "235, 260, 245, 250, 225, 270, 265, 255, 250, 260]\n",
        "● Explain how you would apply the Central Limit Theorem to estimate the average sales\n",
        "with a 95% confidence interval.\n",
        "● Write the Python code to compute the mean sales and its confidence interval.'''\n",
        "import numpy as np\n",
        "from scipy import stats\n",
        "\n",
        "daily_sales = [220, 245, 210, 265, 230, 250, 260, 275, 240, 255, 235, 260, 245, 250, 225, 270, 265, 255, 250, 260]\n",
        "\n",
        "# Calculate sample mean\n",
        "mean_sales = np.mean(daily_sales)\n",
        "\n",
        "# Calculate sample standard deviation (ddof=1 for sample std dev)\n",
        "std_dev_sales = np.std(daily_sales, ddof=1)\n",
        "\n",
        "# Sample size\n",
        "n = len(daily_sales)\n",
        "\n",
        "# Confidence level\n",
        "confidence = 0.95\n",
        "\n",
        "# Calculate standard error\n",
        "std_error = std_dev_sales / np.sqrt(n)\n",
        "\n",
        "# Calculate the t-critical value\n",
        "t_critical = stats.t.ppf((1 + confidence) / 2, df=n-1)\n",
        "\n",
        "# Calculate margin of error\n",
        "margin_of_error = t_critical * std_error\n",
        "\n",
        "# Calculate confidence interval\n",
        "lower_bound = mean_sales - margin_of_error\n",
        "upper_bound = mean_sales + margin_of_error\n",
        "\n",
        "print(\"Mean sales:\", mean_sales)\n",
        "print(f\"95% confidence interval: ({lower_bound}, {upper_bound})\")\n"
      ],
      "metadata": {
        "colab": {
          "base_uri": "https://localhost:8080/"
        },
        "id": "T8Kfq_tZ_Dgk",
        "outputId": "3f1e1a55-5ad6-4abc-c789-7f319535f71e"
      },
      "execution_count": 12,
      "outputs": [
        {
          "output_type": "stream",
          "name": "stdout",
          "text": [
            "Mean sales: 248.25\n",
            "95% confidence interval: (240.16957025147158, 256.3304297485284)\n"
          ]
        }
      ]
    },
    {
      "cell_type": "code",
      "source": [],
      "metadata": {
        "id": "-5XKrqM__s3K"
      },
      "execution_count": null,
      "outputs": []
    }
  ]
}